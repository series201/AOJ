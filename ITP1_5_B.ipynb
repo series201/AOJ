{
  "nbformat": 4,
  "nbformat_minor": 0,
  "metadata": {
    "colab": {
      "provenance": [],
      "authorship_tag": "ABX9TyMt/dDboE24I15HY8E/mnxH",
      "include_colab_link": true
    },
    "kernelspec": {
      "name": "python3",
      "display_name": "Python 3"
    },
    "language_info": {
      "name": "python"
    }
  },
  "cells": [
    {
      "cell_type": "markdown",
      "metadata": {
        "id": "view-in-github",
        "colab_type": "text"
      },
      "source": [
        "<a href=\"https://colab.research.google.com/github/series201/AOJ/blob/main/ITP1_5_B.ipynb\" target=\"_parent\"><img src=\"https://colab.research.google.com/assets/colab-badge.svg\" alt=\"Open In Colab\"/></a>"
      ]
    },
    {
      "cell_type": "code",
      "execution_count": 10,
      "metadata": {
        "colab": {
          "base_uri": "https://localhost:8080/"
        },
        "id": "xM_JuA-gfZ0j",
        "outputId": "ea80aa1f-52d1-4513-e982-01da27bbc28b"
      },
      "outputs": [
        {
          "name": "stdout",
          "output_type": "stream",
          "text": [
            "9 5\n",
            "#####\n",
            "#...#\n",
            "#...#\n",
            "#...#\n",
            "#...#\n",
            "#...#\n",
            "#...#\n",
            "#...#\n",
            "#####\n",
            "\n",
            "5 6\n",
            "######\n",
            "#....#\n",
            "#....#\n",
            "#....#\n",
            "######\n",
            "\n",
            "0 0\n"
          ]
        }
      ],
      "source": [
        "while True :\n",
        "  H, W = [int(i) for i in input().split()]\n",
        "\n",
        "  if (H and W) == 0 :\n",
        "    break\n",
        "\n",
        "  for i in range(H) :\n",
        "    if (i == 0) or (i == H-1) :\n",
        "      print('#'*W)\n",
        "    else :\n",
        "      print('#'+'.'*(W-2)+'#')\n",
        "\n",
        "  print()"
      ]
    }
  ]
}