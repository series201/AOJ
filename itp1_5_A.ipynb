{
  "nbformat": 4,
  "nbformat_minor": 0,
  "metadata": {
    "colab": {
      "provenance": [],
      "toc_visible": true,
      "authorship_tag": "ABX9TyPgfrwQxQYm39Ca8o8QTyCU",
      "include_colab_link": true
    },
    "kernelspec": {
      "name": "python3",
      "display_name": "Python 3"
    },
    "language_info": {
      "name": "python"
    }
  },
  "cells": [
    {
      "cell_type": "markdown",
      "metadata": {
        "id": "view-in-github",
        "colab_type": "text"
      },
      "source": [
        "<a href=\"https://colab.research.google.com/github/series201/AOJ/blob/main/itp1_5_A.ipynb\" target=\"_parent\"><img src=\"https://colab.research.google.com/assets/colab-badge.svg\" alt=\"Open In Colab\"/></a>"
      ]
    },
    {
      "cell_type": "code",
      "execution_count": 16,
      "metadata": {
        "colab": {
          "base_uri": "https://localhost:8080/"
        },
        "id": "pY-aKtcCSMpF",
        "outputId": "2ae22998-940d-4b67-9903-86fec732346c"
      },
      "outputs": [
        {
          "name": "stdout",
          "output_type": "stream",
          "text": [
            "2 2\n",
            "##\n",
            "##\n",
            "\n",
            "3 4\n",
            "####\n",
            "####\n",
            "####\n",
            "\n",
            "1 5\n",
            "#####\n",
            "\n",
            "0 0\n"
          ]
        }
      ],
      "source": [
        "while True:\n",
        "\n",
        "  H, W = [int(i) for i in input().split()]\n",
        "\n",
        "#  if (H and W)!=0 :\n",
        "#    for i in range(H) :\n",
        "#      for j in range(W) :\n",
        "#        print('#', end='')\n",
        "#      print('')\n",
        "#    print('')\n",
        "#  else :\n",
        "#    break\n",
        "\n",
        "  if (H and W)==0 :\n",
        "    break\n",
        "\n",
        "  for i in range(H):\n",
        "    print('#'*W)\n",
        "  print()\n"
      ]
    }
  ]
}